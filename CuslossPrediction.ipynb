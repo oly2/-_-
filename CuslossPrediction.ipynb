{
 "cells": [
  {
   "cell_type": "code",
   "execution_count": 24,
   "id": "26343ba5",
   "metadata": {
    "ExecuteTime": {
     "end_time": "2022-10-28T03:40:21.940026Z",
     "start_time": "2022-10-28T03:40:21.930517Z"
    }
   },
   "outputs": [],
   "source": [
    "import os\n",
    "import warnings\n",
    "warnings.filterwarnings('ignore')\n",
    "import pandas as pd\n",
    "import numpy as np\n",
    "import matplotlib.pyplot as plt\n",
    "import math\n",
    "import keras.optimizers as optimizers\n",
    "import optuna\n",
    "import xgboost as xgb\n",
    "from sklearn.metrics import roc_auc_score\n",
    "from sklearn.model_selection import train_test_split\n",
    "from sklearn.model_selection import StratifiedKFold, KFold\n",
    "warnings.filterwarnings(\"ignore\")"
   ]
  },
  {
   "cell_type": "code",
   "execution_count": 31,
   "id": "0f84c524",
   "metadata": {
    "ExecuteTime": {
     "end_time": "2022-10-28T03:43:01.882661Z",
     "start_time": "2022-10-28T03:43:01.126511Z"
    }
   },
   "outputs": [],
   "source": [
    "train = pd.read_csv('train.csv')\n",
    "test = pd.read_csv('test.csv')\n",
    "train, test = detect_nan(train), detect_nan(test)\n",
    "train, test = solve_nan(train), solve_nan(test)\n",
    "data = pd.concat([train, test], axis=0, ignore_index=True)\n",
    "\n",
    "features = [f for f in data.columns if f not in ['是否流失','客户ID']]\n",
    "train = data[data['是否流失'].notnull()].reset_index(drop=True)\n",
    "test = data[data['是否流失'].isnull()].reset_index(drop=True)\n",
    "x_train = train[features]\n",
    "x_test = test[features]\n",
    "\n",
    "y_train = train['是否流失']"
   ]
  },
  {
   "cell_type": "code",
   "execution_count": 3,
   "id": "074b4fc9",
   "metadata": {
    "ExecuteTime": {
     "end_time": "2022-10-28T02:52:42.409596Z",
     "start_time": "2022-10-28T02:52:42.396596Z"
    }
   },
   "outputs": [],
   "source": [
    "def solve_nan(df):\n",
    "    nan_num_cols = ['当前手机价格', '家庭成人人数', '预计收入', '当前设备使用天数', '平均月费用', '每月平均使用分钟数', \n",
    "                    '平均超额使用分钟数', '平均超额费用', '平均语音费用', '数据超载的平均费用', '平均漫游呼叫数', \n",
    "                    '当月使用分钟数与前三个月平均值的百分比变化','当月费用与前三个月平均值的百分比变化', \n",
    "                    '过去六个月的平均每月使用分钟数', '过去六个月的平均每月通话次数', '过去六个月的平均月费用']\n",
    "    for col in nan_num_cols:\n",
    "        df[col].fillna(int(df[col].mean()), inplace=True)\n",
    "        \n",
    "    nan_cat_cols = ['地理区域', '是否双频', '是否翻新机', '手机网络功能', '婚姻状况', '信息库匹配', '信用卡指示器']\n",
    "    for col in nan_cat_cols:\n",
    "        df[col].fillna(df[col].mode()[0], inplace=True)\n",
    "    return df"
   ]
  },
  {
   "cell_type": "code",
   "execution_count": 4,
   "id": "d63816bf",
   "metadata": {
    "ExecuteTime": {
     "end_time": "2022-10-28T02:52:42.737159Z",
     "start_time": "2022-10-28T02:52:42.721160Z"
    }
   },
   "outputs": [],
   "source": [
    "def detect_nan(df):\n",
    "    df = df.replace(-1,np.NaN)\n",
    "    non_negative_cols = ['当前设备使用天数', '平均月费用']\n",
    "    for col in non_negative_cols:\n",
    "        df.loc[~(df[col] > 0), col] = np.nan\n",
    "    return df"
   ]
  },
  {
   "cell_type": "code",
   "execution_count": 11,
   "id": "f4d4afd4",
   "metadata": {
    "ExecuteTime": {
     "end_time": "2022-10-28T02:58:24.144230Z",
     "start_time": "2022-10-28T02:58:24.125227Z"
    }
   },
   "outputs": [
    {
     "data": {
      "text/html": [
       "<div>\n",
       "<style scoped>\n",
       "    .dataframe tbody tr th:only-of-type {\n",
       "        vertical-align: middle;\n",
       "    }\n",
       "\n",
       "    .dataframe tbody tr th {\n",
       "        vertical-align: top;\n",
       "    }\n",
       "\n",
       "    .dataframe thead th {\n",
       "        text-align: right;\n",
       "    }\n",
       "</style>\n",
       "<table border=\"1\" class=\"dataframe\">\n",
       "  <thead>\n",
       "    <tr style=\"text-align: right;\">\n",
       "      <th></th>\n",
       "      <th>地理区域</th>\n",
       "      <th>是否双频</th>\n",
       "      <th>是否翻新机</th>\n",
       "      <th>当前手机价格</th>\n",
       "      <th>手机网络功能</th>\n",
       "      <th>婚姻状况</th>\n",
       "      <th>家庭成人人数</th>\n",
       "      <th>信息库匹配</th>\n",
       "      <th>预计收入</th>\n",
       "      <th>信用卡指示器</th>\n",
       "      <th>...</th>\n",
       "      <th>计费调整后的呼叫总数</th>\n",
       "      <th>客户生命周期内平均月费用</th>\n",
       "      <th>客户生命周期内的平均每月使用分钟数</th>\n",
       "      <th>客户整个生命周期内的平均每月通话次数</th>\n",
       "      <th>过去三个月的平均每月使用分钟数</th>\n",
       "      <th>过去三个月的平均每月通话次数</th>\n",
       "      <th>过去三个月的平均月费用</th>\n",
       "      <th>过去六个月的平均每月使用分钟数</th>\n",
       "      <th>过去六个月的平均每月通话次数</th>\n",
       "      <th>过去六个月的平均月费用</th>\n",
       "    </tr>\n",
       "  </thead>\n",
       "  <tbody>\n",
       "    <tr>\n",
       "      <th>0</th>\n",
       "      <td>7.0</td>\n",
       "      <td>0.0</td>\n",
       "      <td>0.0</td>\n",
       "      <td>181.0</td>\n",
       "      <td>0.0</td>\n",
       "      <td>2.0</td>\n",
       "      <td>0.0</td>\n",
       "      <td>0.0</td>\n",
       "      <td>3.0</td>\n",
       "      <td>1.0</td>\n",
       "      <td>...</td>\n",
       "      <td>855</td>\n",
       "      <td>24</td>\n",
       "      <td>286</td>\n",
       "      <td>91</td>\n",
       "      <td>351</td>\n",
       "      <td>121</td>\n",
       "      <td>23</td>\n",
       "      <td>303.0</td>\n",
       "      <td>101.0</td>\n",
       "      <td>25.0</td>\n",
       "    </tr>\n",
       "    <tr>\n",
       "      <th>1</th>\n",
       "      <td>13.0</td>\n",
       "      <td>1.0</td>\n",
       "      <td>0.0</td>\n",
       "      <td>1399.0</td>\n",
       "      <td>0.0</td>\n",
       "      <td>3.0</td>\n",
       "      <td>0.0</td>\n",
       "      <td>0.0</td>\n",
       "      <td>0.0</td>\n",
       "      <td>1.0</td>\n",
       "      <td>...</td>\n",
       "      <td>1936</td>\n",
       "      <td>44</td>\n",
       "      <td>447</td>\n",
       "      <td>190</td>\n",
       "      <td>483</td>\n",
       "      <td>199</td>\n",
       "      <td>40</td>\n",
       "      <td>488.0</td>\n",
       "      <td>202.0</td>\n",
       "      <td>44.0</td>\n",
       "    </tr>\n",
       "    <tr>\n",
       "      <th>2</th>\n",
       "      <td>14.0</td>\n",
       "      <td>1.0</td>\n",
       "      <td>0.0</td>\n",
       "      <td>927.0</td>\n",
       "      <td>0.0</td>\n",
       "      <td>2.0</td>\n",
       "      <td>4.0</td>\n",
       "      <td>0.0</td>\n",
       "      <td>6.0</td>\n",
       "      <td>0.0</td>\n",
       "      <td>...</td>\n",
       "      <td>1963</td>\n",
       "      <td>48</td>\n",
       "      <td>183</td>\n",
       "      <td>79</td>\n",
       "      <td>271</td>\n",
       "      <td>95</td>\n",
       "      <td>71</td>\n",
       "      <td>209.0</td>\n",
       "      <td>77.0</td>\n",
       "      <td>54.0</td>\n",
       "    </tr>\n",
       "    <tr>\n",
       "      <th>3</th>\n",
       "      <td>1.0</td>\n",
       "      <td>0.0</td>\n",
       "      <td>0.0</td>\n",
       "      <td>232.0</td>\n",
       "      <td>0.0</td>\n",
       "      <td>3.0</td>\n",
       "      <td>2.0</td>\n",
       "      <td>1.0</td>\n",
       "      <td>4.0</td>\n",
       "      <td>1.0</td>\n",
       "      <td>...</td>\n",
       "      <td>3917</td>\n",
       "      <td>42</td>\n",
       "      <td>303</td>\n",
       "      <td>166</td>\n",
       "      <td>473</td>\n",
       "      <td>226</td>\n",
       "      <td>72</td>\n",
       "      <td>446.0</td>\n",
       "      <td>219.0</td>\n",
       "      <td>65.0</td>\n",
       "    </tr>\n",
       "    <tr>\n",
       "      <th>4</th>\n",
       "      <td>0.0</td>\n",
       "      <td>1.0</td>\n",
       "      <td>0.0</td>\n",
       "      <td>699.0</td>\n",
       "      <td>0.0</td>\n",
       "      <td>1.0</td>\n",
       "      <td>2.0</td>\n",
       "      <td>0.0</td>\n",
       "      <td>3.0</td>\n",
       "      <td>0.0</td>\n",
       "      <td>...</td>\n",
       "      <td>248</td>\n",
       "      <td>36</td>\n",
       "      <td>119</td>\n",
       "      <td>24</td>\n",
       "      <td>88</td>\n",
       "      <td>15</td>\n",
       "      <td>35</td>\n",
       "      <td>106.0</td>\n",
       "      <td>21.0</td>\n",
       "      <td>37.0</td>\n",
       "    </tr>\n",
       "  </tbody>\n",
       "</table>\n",
       "<p>5 rows × 67 columns</p>\n",
       "</div>"
      ],
      "text/plain": [
       "   地理区域  是否双频  是否翻新机  当前手机价格  手机网络功能  婚姻状况  家庭成人人数  信息库匹配  预计收入  信用卡指示器  ...  \\\n",
       "0   7.0   0.0    0.0   181.0     0.0   2.0     0.0    0.0   3.0     1.0  ...   \n",
       "1  13.0   1.0    0.0  1399.0     0.0   3.0     0.0    0.0   0.0     1.0  ...   \n",
       "2  14.0   1.0    0.0   927.0     0.0   2.0     4.0    0.0   6.0     0.0  ...   \n",
       "3   1.0   0.0    0.0   232.0     0.0   3.0     2.0    1.0   4.0     1.0  ...   \n",
       "4   0.0   1.0    0.0   699.0     0.0   1.0     2.0    0.0   3.0     0.0  ...   \n",
       "\n",
       "   计费调整后的呼叫总数  客户生命周期内平均月费用  客户生命周期内的平均每月使用分钟数  客户整个生命周期内的平均每月通话次数  \\\n",
       "0         855            24                286                  91   \n",
       "1        1936            44                447                 190   \n",
       "2        1963            48                183                  79   \n",
       "3        3917            42                303                 166   \n",
       "4         248            36                119                  24   \n",
       "\n",
       "   过去三个月的平均每月使用分钟数  过去三个月的平均每月通话次数  过去三个月的平均月费用  过去六个月的平均每月使用分钟数  \\\n",
       "0              351             121           23            303.0   \n",
       "1              483             199           40            488.0   \n",
       "2              271              95           71            209.0   \n",
       "3              473             226           72            446.0   \n",
       "4               88              15           35            106.0   \n",
       "\n",
       "   过去六个月的平均每月通话次数  过去六个月的平均月费用  \n",
       "0           101.0         25.0  \n",
       "1           202.0         44.0  \n",
       "2            77.0         54.0  \n",
       "3           219.0         65.0  \n",
       "4            21.0         37.0  \n",
       "\n",
       "[5 rows x 67 columns]"
      ]
     },
     "execution_count": 11,
     "metadata": {},
     "output_type": "execute_result"
    }
   ],
   "source": [
    "x_train.head()"
   ]
  },
  {
   "cell_type": "code",
   "execution_count": 13,
   "id": "810b9ed5",
   "metadata": {
    "ExecuteTime": {
     "end_time": "2022-10-28T02:58:38.241744Z",
     "start_time": "2022-10-28T02:58:38.179224Z"
    },
    "scrolled": true
   },
   "outputs": [
    {
     "name": "stdout",
     "output_type": "stream",
     "text": [
      "1.0    75042\n",
      "0.0    74958\n",
      "Name: 是否流失, dtype: int64\n",
      "\n",
      "(150000, 67)\n",
      "\n",
      "the number of rows containing NaN is 0\n"
     ]
    }
   ],
   "source": [
    "print(train['是否流失'].value_counts())\n",
    "print('')\n",
    "print(x_train.shape)\n",
    "print('')\n",
    "print(f'the number of rows containing NaN is {x_train.shape[0] - x_train.dropna().shape[0]}')"
   ]
  },
  {
   "cell_type": "code",
   "execution_count": 12,
   "id": "0bde5318",
   "metadata": {
    "ExecuteTime": {
     "end_time": "2022-10-23T23:24:10.793777Z",
     "start_time": "2022-10-23T23:24:10.778777Z"
    }
   },
   "outputs": [
    {
     "data": {
      "text/plain": [
       "客户ID               0\n",
       "地理区域               0\n",
       "是否双频               0\n",
       "是否翻新机              0\n",
       "当前手机价格             0\n",
       "                  ..\n",
       "过去三个月的平均月费用        0\n",
       "过去六个月的平均每月使用分钟数    0\n",
       "过去六个月的平均每月通话次数     0\n",
       "过去六个月的平均月费用        0\n",
       "是否流失               0\n",
       "Length: 69, dtype: int64"
      ]
     },
     "execution_count": 12,
     "metadata": {},
     "output_type": "execute_result"
    }
   ],
   "source": [
    "def preprocessor(df):\n",
    "   # Dict for aggregations\n",
    "    create_feature_dict = {\n",
    "        '当前手机价格': [np.sum, np.std],               #### 去掉np.mean\n",
    "        '家庭成人人数': [np.sum, np.std],               #### 去掉np.mean\n",
    "        '预计收入': [np.sum, np.std],               #### 加入wap3 [np.sum, np.std]\n",
    "        '当前设备使用天数': [np.sum, np.std],               #### 加入wap4 [np.sum, np.std]\n",
    "        '平均月费用': [np.sum, np.std],\n",
    "        'log_return1': [realized_volatility],   #### 去掉np.sum, np.mean, np.std\n",
    "        'log_return2': [realized_volatility],   #### 去掉np.sum, np.mean, np.std\n",
    "        'log_return3': [realized_volatility],   #### 加入 'log_return3': [realized_volatility]\n",
    "        'log_return4': [realized_volatility],   #### 加入 'log_return4': [realized_volatility]\n",
    "        'wap_balance': [np.sum, np.max],        #### 去掉np.mean, np.std,加入了np.max\n",
    "        'price_spread':[np.sum, np.max],        #### 去掉np.mean, np.std,加入了np.max\n",
    "        'price_spread2':[np.sum, np.max],       #### 去掉np.mean, np.std,加入了np.max\n",
    "        'bid_spread':[np.sum, np.max],          #### 去掉np.mean, np.std,加入了np.max\n",
    "        'ask_spread':[np.sum, np.max],          #### 去掉np.mean, np.std,加入了np.max\n",
    "        'total_volume':[np.sum, np.max],        #### 去掉np.mean, np.std,加入了np.max\n",
    "        'volume_imbalance':[np.sum, np.max],    #### 去掉np.mean, np.std,加入了np.max\n",
    "        \"bid_ask_spread\":[np.sum,  np.max],     #### 去掉np.mean, np.std,加入了np.max\n",
    "    }    "
   ]
  },
  {
   "cell_type": "code",
   "execution_count": 91,
   "id": "9fd86d5e",
   "metadata": {
    "ExecuteTime": {
     "end_time": "2022-10-27T04:52:50.933506Z",
     "start_time": "2022-10-27T04:52:50.631499Z"
    }
   },
   "outputs": [
    {
     "data": {
      "text/html": [
       "<div>\n",
       "<style scoped>\n",
       "    .dataframe tbody tr th:only-of-type {\n",
       "        vertical-align: middle;\n",
       "    }\n",
       "\n",
       "    .dataframe tbody tr th {\n",
       "        vertical-align: top;\n",
       "    }\n",
       "\n",
       "    .dataframe thead th {\n",
       "        text-align: right;\n",
       "    }\n",
       "</style>\n",
       "<table border=\"1\" class=\"dataframe\">\n",
       "  <thead>\n",
       "    <tr style=\"text-align: right;\">\n",
       "      <th></th>\n",
       "      <th>地理区域</th>\n",
       "      <th>是否双频</th>\n",
       "      <th>是否翻新机</th>\n",
       "      <th>当前手机价格</th>\n",
       "      <th>手机网络功能</th>\n",
       "      <th>婚姻状况</th>\n",
       "      <th>家庭成人人数</th>\n",
       "      <th>信息库匹配</th>\n",
       "      <th>预计收入</th>\n",
       "      <th>信用卡指示器</th>\n",
       "      <th>...</th>\n",
       "      <th>计费调整后的呼叫总数</th>\n",
       "      <th>客户生命周期内平均月费用</th>\n",
       "      <th>客户生命周期内的平均每月使用分钟数</th>\n",
       "      <th>客户整个生命周期内的平均每月通话次数</th>\n",
       "      <th>过去三个月的平均每月使用分钟数</th>\n",
       "      <th>过去三个月的平均每月通话次数</th>\n",
       "      <th>过去三个月的平均月费用</th>\n",
       "      <th>过去六个月的平均每月使用分钟数</th>\n",
       "      <th>过去六个月的平均每月通话次数</th>\n",
       "      <th>过去六个月的平均月费用</th>\n",
       "    </tr>\n",
       "  </thead>\n",
       "  <tbody>\n",
       "    <tr>\n",
       "      <th>count</th>\n",
       "      <td>150000.000000</td>\n",
       "      <td>150000.000000</td>\n",
       "      <td>150000.000000</td>\n",
       "      <td>150000.000000</td>\n",
       "      <td>150000.000000</td>\n",
       "      <td>150000.000000</td>\n",
       "      <td>150000.000000</td>\n",
       "      <td>150000.000000</td>\n",
       "      <td>150000.000000</td>\n",
       "      <td>150000.000000</td>\n",
       "      <td>...</td>\n",
       "      <td>150000.000000</td>\n",
       "      <td>150000.000000</td>\n",
       "      <td>150000.000000</td>\n",
       "      <td>150000.000000</td>\n",
       "      <td>150000.000000</td>\n",
       "      <td>150000.000000</td>\n",
       "      <td>150000.000000</td>\n",
       "      <td>150000.000000</td>\n",
       "      <td>150000.000000</td>\n",
       "      <td>150000.000000</td>\n",
       "    </tr>\n",
       "    <tr>\n",
       "      <th>mean</th>\n",
       "      <td>8.060327</td>\n",
       "      <td>0.618253</td>\n",
       "      <td>-0.094287</td>\n",
       "      <td>705.279413</td>\n",
       "      <td>0.286100</td>\n",
       "      <td>1.629427</td>\n",
       "      <td>1.582027</td>\n",
       "      <td>0.136187</td>\n",
       "      <td>3.906173</td>\n",
       "      <td>0.198140</td>\n",
       "      <td>...</td>\n",
       "      <td>2850.812660</td>\n",
       "      <td>56.727240</td>\n",
       "      <td>479.829973</td>\n",
       "      <td>171.989867</td>\n",
       "      <td>515.756253</td>\n",
       "      <td>179.328827</td>\n",
       "      <td>58.243247</td>\n",
       "      <td>492.528440</td>\n",
       "      <td>172.607533</td>\n",
       "      <td>56.273753</td>\n",
       "    </tr>\n",
       "    <tr>\n",
       "      <th>std</th>\n",
       "      <td>5.065028</td>\n",
       "      <td>0.539597</td>\n",
       "      <td>0.292228</td>\n",
       "      <td>419.211310</td>\n",
       "      <td>0.587749</td>\n",
       "      <td>1.231911</td>\n",
       "      <td>1.714654</td>\n",
       "      <td>0.346488</td>\n",
       "      <td>3.156789</td>\n",
       "      <td>0.420018</td>\n",
       "      <td>...</td>\n",
       "      <td>3763.973391</td>\n",
       "      <td>34.368247</td>\n",
       "      <td>427.972362</td>\n",
       "      <td>163.881701</td>\n",
       "      <td>520.295608</td>\n",
       "      <td>187.742919</td>\n",
       "      <td>43.516844</td>\n",
       "      <td>486.577663</td>\n",
       "      <td>178.694606</td>\n",
       "      <td>39.150687</td>\n",
       "    </tr>\n",
       "    <tr>\n",
       "      <th>min</th>\n",
       "      <td>-1.000000</td>\n",
       "      <td>-1.000000</td>\n",
       "      <td>-1.000000</td>\n",
       "      <td>-1.000000</td>\n",
       "      <td>-1.000000</td>\n",
       "      <td>-1.000000</td>\n",
       "      <td>-1.000000</td>\n",
       "      <td>-1.000000</td>\n",
       "      <td>-1.000000</td>\n",
       "      <td>-1.000000</td>\n",
       "      <td>...</td>\n",
       "      <td>0.000000</td>\n",
       "      <td>0.000000</td>\n",
       "      <td>0.000000</td>\n",
       "      <td>0.000000</td>\n",
       "      <td>0.000000</td>\n",
       "      <td>0.000000</td>\n",
       "      <td>1.000000</td>\n",
       "      <td>-1.000000</td>\n",
       "      <td>-1.000000</td>\n",
       "      <td>-1.000000</td>\n",
       "    </tr>\n",
       "    <tr>\n",
       "      <th>25%</th>\n",
       "      <td>4.000000</td>\n",
       "      <td>0.000000</td>\n",
       "      <td>0.000000</td>\n",
       "      <td>225.000000</td>\n",
       "      <td>0.000000</td>\n",
       "      <td>1.000000</td>\n",
       "      <td>0.000000</td>\n",
       "      <td>0.000000</td>\n",
       "      <td>1.000000</td>\n",
       "      <td>0.000000</td>\n",
       "      <td>...</td>\n",
       "      <td>870.000000</td>\n",
       "      <td>35.000000</td>\n",
       "      <td>177.000000</td>\n",
       "      <td>64.000000</td>\n",
       "      <td>154.000000</td>\n",
       "      <td>56.000000</td>\n",
       "      <td>33.000000</td>\n",
       "      <td>150.000000</td>\n",
       "      <td>55.000000</td>\n",
       "      <td>34.000000</td>\n",
       "    </tr>\n",
       "    <tr>\n",
       "      <th>50%</th>\n",
       "      <td>8.000000</td>\n",
       "      <td>1.000000</td>\n",
       "      <td>0.000000</td>\n",
       "      <td>699.000000</td>\n",
       "      <td>0.000000</td>\n",
       "      <td>1.000000</td>\n",
       "      <td>1.000000</td>\n",
       "      <td>0.000000</td>\n",
       "      <td>5.000000</td>\n",
       "      <td>0.000000</td>\n",
       "      <td>...</td>\n",
       "      <td>1795.000000</td>\n",
       "      <td>49.000000</td>\n",
       "      <td>361.000000</td>\n",
       "      <td>127.000000</td>\n",
       "      <td>358.000000</td>\n",
       "      <td>126.000000</td>\n",
       "      <td>48.000000</td>\n",
       "      <td>350.000000</td>\n",
       "      <td>123.000000</td>\n",
       "      <td>48.000000</td>\n",
       "    </tr>\n",
       "    <tr>\n",
       "      <th>75%</th>\n",
       "      <td>12.000000</td>\n",
       "      <td>1.000000</td>\n",
       "      <td>0.000000</td>\n",
       "      <td>1049.000000</td>\n",
       "      <td>0.000000</td>\n",
       "      <td>3.000000</td>\n",
       "      <td>3.000000</td>\n",
       "      <td>0.000000</td>\n",
       "      <td>6.000000</td>\n",
       "      <td>0.000000</td>\n",
       "      <td>...</td>\n",
       "      <td>3467.000000</td>\n",
       "      <td>68.000000</td>\n",
       "      <td>655.000000</td>\n",
       "      <td>227.000000</td>\n",
       "      <td>708.000000</td>\n",
       "      <td>239.000000</td>\n",
       "      <td>69.000000</td>\n",
       "      <td>681.000000</td>\n",
       "      <td>232.000000</td>\n",
       "      <td>68.000000</td>\n",
       "    </tr>\n",
       "    <tr>\n",
       "      <th>max</th>\n",
       "      <td>18.000000</td>\n",
       "      <td>1.000000</td>\n",
       "      <td>0.000000</td>\n",
       "      <td>3499.000000</td>\n",
       "      <td>2.000000</td>\n",
       "      <td>4.000000</td>\n",
       "      <td>6.000000</td>\n",
       "      <td>1.000000</td>\n",
       "      <td>9.000000</td>\n",
       "      <td>1.000000</td>\n",
       "      <td>...</td>\n",
       "      <td>97997.000000</td>\n",
       "      <td>902.000000</td>\n",
       "      <td>7040.000000</td>\n",
       "      <td>2716.000000</td>\n",
       "      <td>7716.000000</td>\n",
       "      <td>3261.000000</td>\n",
       "      <td>1593.000000</td>\n",
       "      <td>7217.000000</td>\n",
       "      <td>2887.000000</td>\n",
       "      <td>866.000000</td>\n",
       "    </tr>\n",
       "  </tbody>\n",
       "</table>\n",
       "<p>8 rows × 67 columns</p>\n",
       "</div>"
      ],
      "text/plain": [
       "                地理区域           是否双频          是否翻新机         当前手机价格  \\\n",
       "count  150000.000000  150000.000000  150000.000000  150000.000000   \n",
       "mean        8.060327       0.618253      -0.094287     705.279413   \n",
       "std         5.065028       0.539597       0.292228     419.211310   \n",
       "min        -1.000000      -1.000000      -1.000000      -1.000000   \n",
       "25%         4.000000       0.000000       0.000000     225.000000   \n",
       "50%         8.000000       1.000000       0.000000     699.000000   \n",
       "75%        12.000000       1.000000       0.000000    1049.000000   \n",
       "max        18.000000       1.000000       0.000000    3499.000000   \n",
       "\n",
       "              手机网络功能           婚姻状况         家庭成人人数          信息库匹配  \\\n",
       "count  150000.000000  150000.000000  150000.000000  150000.000000   \n",
       "mean        0.286100       1.629427       1.582027       0.136187   \n",
       "std         0.587749       1.231911       1.714654       0.346488   \n",
       "min        -1.000000      -1.000000      -1.000000      -1.000000   \n",
       "25%         0.000000       1.000000       0.000000       0.000000   \n",
       "50%         0.000000       1.000000       1.000000       0.000000   \n",
       "75%         0.000000       3.000000       3.000000       0.000000   \n",
       "max         2.000000       4.000000       6.000000       1.000000   \n",
       "\n",
       "                预计收入         信用卡指示器  ...     计费调整后的呼叫总数   客户生命周期内平均月费用  \\\n",
       "count  150000.000000  150000.000000  ...  150000.000000  150000.000000   \n",
       "mean        3.906173       0.198140  ...    2850.812660      56.727240   \n",
       "std         3.156789       0.420018  ...    3763.973391      34.368247   \n",
       "min        -1.000000      -1.000000  ...       0.000000       0.000000   \n",
       "25%         1.000000       0.000000  ...     870.000000      35.000000   \n",
       "50%         5.000000       0.000000  ...    1795.000000      49.000000   \n",
       "75%         6.000000       0.000000  ...    3467.000000      68.000000   \n",
       "max         9.000000       1.000000  ...   97997.000000     902.000000   \n",
       "\n",
       "       客户生命周期内的平均每月使用分钟数  客户整个生命周期内的平均每月通话次数  过去三个月的平均每月使用分钟数  过去三个月的平均每月通话次数  \\\n",
       "count      150000.000000       150000.000000    150000.000000   150000.000000   \n",
       "mean          479.829973          171.989867       515.756253      179.328827   \n",
       "std           427.972362          163.881701       520.295608      187.742919   \n",
       "min             0.000000            0.000000         0.000000        0.000000   \n",
       "25%           177.000000           64.000000       154.000000       56.000000   \n",
       "50%           361.000000          127.000000       358.000000      126.000000   \n",
       "75%           655.000000          227.000000       708.000000      239.000000   \n",
       "max          7040.000000         2716.000000      7716.000000     3261.000000   \n",
       "\n",
       "         过去三个月的平均月费用  过去六个月的平均每月使用分钟数  过去六个月的平均每月通话次数    过去六个月的平均月费用  \n",
       "count  150000.000000    150000.000000   150000.000000  150000.000000  \n",
       "mean       58.243247       492.528440      172.607533      56.273753  \n",
       "std        43.516844       486.577663      178.694606      39.150687  \n",
       "min         1.000000        -1.000000       -1.000000      -1.000000  \n",
       "25%        33.000000       150.000000       55.000000      34.000000  \n",
       "50%        48.000000       350.000000      123.000000      48.000000  \n",
       "75%        69.000000       681.000000      232.000000      68.000000  \n",
       "max      1593.000000      7217.000000     2887.000000     866.000000  \n",
       "\n",
       "[8 rows x 67 columns]"
      ]
     },
     "execution_count": 91,
     "metadata": {},
     "output_type": "execute_result"
    }
   ],
   "source": [
    "x_train.describe()"
   ]
  },
  {
   "cell_type": "code",
   "execution_count": 14,
   "id": "bbad4b9c",
   "metadata": {
    "ExecuteTime": {
     "end_time": "2022-10-28T02:58:48.906380Z",
     "start_time": "2022-10-28T02:58:48.604682Z"
    },
    "scrolled": true
   },
   "outputs": [
    {
     "data": {
      "image/png": "[encoded data removed]",
      "text/plain": [
       "<Figure size 432x288 with 1 Axes>"
      ]
     },
     "metadata": {
      "needs_background": "light"
     },
     "output_type": "display_data"
    }
   ],
   "source": [
    "boxplot = train.boxplot(column=['过去三个月的平均每月使用分钟数', '客户整个生命周期内的平均每月通话次数'])  "
   ]
  },
  {
   "cell_type": "code",
   "execution_count": 17,
   "id": "8a808908",
   "metadata": {
    "ExecuteTime": {
     "end_time": "2022-10-28T02:59:47.343212Z",
     "start_time": "2022-10-28T02:59:47.246588Z"
    }
   },
   "outputs": [],
   "source": [
    "X_train, X_valid, y_train, y_valid = train_test_split(x_train, y_train, test_size=0.2, random_state=42)"
   ]
  },
  {
   "cell_type": "code",
   "execution_count": 53,
   "id": "3363310d",
   "metadata": {
    "ExecuteTime": {
     "end_time": "2022-10-28T05:12:57.726591Z",
     "start_time": "2022-10-28T05:12:57.714587Z"
    }
   },
   "outputs": [],
   "source": [
    "def objective(trial):\n",
    "    xgb_params = {\n",
    "        # 'objective':'auc',\n",
    "        'n_jobs':-1,\n",
    "        'seed': 42,\n",
    "        'objective': 'binary:logistic',\n",
    "        'eval_metric': 'auc',\n",
    "        \n",
    "        \n",
    "        'min_child_weight': trial.suggest_int(\"min_child_weight\", 1, 6),\n",
    "        \n",
    "        'max_bin':trial.suggest_categorical(\"max_bin\", [256, 512]),\n",
    "        'colsample_bytree':trial.suggest_categorical(\"colsample_bytree\", [0.6, 0.7, 0.8, 0.9, 1]),\n",
    "        'colsample_bylevel':trial.suggest_categorical(\"colsample_bylevel\", [0.6, 0.7, 0.8, 0.9, 1]),\n",
    "        'eta': trial.suggest_loguniform(\"eta\", 0.008, 0.3),\n",
    "        #\"n_estimators\":trial.suggest_categorical(\"n_estimators\", [400, 500, 600, 800, 1000]),\n",
    "        \"max_depth\":trial.suggest_int(\"max_depth\", 3, 10), \n",
    "        'gamma': trial.suggest_categorical('gamma', [0.1, 0.2, 0.3, 0.4, 0.5, 0.6, 1]),\n",
    "        'reg_lambda': trial.suggest_categorical('reg_lambda', [0.05, 0.1, 1, 2, 3, 5, 10])\n",
    "    }\n",
    "    \n",
    "    kf = KFold(n_splits=2, shuffle=True, random_state=42)\n",
    "    cv_scores = []\n",
    "    for i, (train_index, valid_index) in enumerate(kf.split(x_train, y_train)):\n",
    "        print(f'-----------------------{str(i+1)}------------------------')\n",
    "        trn_x, trn_y = x_train.iloc[train_index], y_train.loc[train_index]\n",
    "        val_x, val_y = x_train.iloc[valid_index], y_train.loc[valid_index]\n",
    "        \n",
    "        train_matrix = xgb.DMatrix(trn_x, label=trn_y)\n",
    "        valid_matrix = xgb.DMatrix(val_x, label=val_y)\n",
    "        \n",
    "        watchlist = [(train_matrix, 'train'), (valid_matrix, 'eval')]\n",
    "        \n",
    "        model = xgb.train(xgb_params, train_matrix, num_boost_round=200, evals=watchlist, \n",
    "                          verbose_eval=200, early_stopping_rounds=200)\n",
    "        val_pred = model.predict(valid_matrix, ntree_limit=model.best_ntree_limit)\n",
    "        cv_scores.append(roc_auc_score(val_y, val_pred))\n",
    "        \n",
    "    return np.mean(cv_scores)"
   ]
  },
  {
   "cell_type": "code",
   "execution_count": 54,
   "id": "dd2eb30c",
   "metadata": {
    "ExecuteTime": {
     "end_time": "2022-10-28T05:21:54.747853Z",
     "start_time": "2022-10-28T05:12:58.244099Z"
    }
   },
   "outputs": [
    {
     "name": "stderr",
     "output_type": "stream",
     "text": [
      "\u001b[32m[I 2022-10-28 00:12:58,246]\u001b[0m A new study created in memory with name: no-name-e29fa72f-5f18-45dd-a302-2cf187d38f3d\u001b[0m\n"
     ]
    },
    {
     "name": "stdout",
     "output_type": "stream",
     "text": [
      "-----------------------1------------------------\n",
      "[0]\ttrain-auc:0.67852\teval-auc:0.64828\n",
      "[199]\ttrain-auc:0.78656\teval-auc:0.70375\n",
      "-----------------------2------------------------\n",
      "[0]\ttrain-auc:0.67391\teval-auc:0.64726\n",
      "[199]\ttrain-auc:0.78367\teval-auc:0.70334\n"
     ]
    },
    {
     "name": "stderr",
     "output_type": "stream",
     "text": [
      "\u001b[32m[I 2022-10-28 00:13:25,637]\u001b[0m Trial 0 finished with value: 0.703543094300059 and parameters: {'min_child_weight': 4, 'max_bin': 512, 'colsample_bytree': 0.9, 'colsample_bylevel': 0.6, 'eta': 0.014116974008422496, 'max_depth': 8, 'gamma': 0.2, 'reg_lambda': 0.05}. Best is trial 0 with value: 0.703543094300059.\u001b[0m\n"
     ]
    },
    {
     "name": "stdout",
     "output_type": "stream",
     "text": [
      "-----------------------1------------------------\n",
      "[0]\ttrain-auc:0.67123\teval-auc:0.61962\n",
      "[199]\ttrain-auc:0.92496\teval-auc:0.73683\n",
      "-----------------------2------------------------\n",
      "[0]\ttrain-auc:0.67673\teval-auc:0.61646\n",
      "[199]\ttrain-auc:0.92483\teval-auc:0.73705\n"
     ]
    },
    {
     "name": "stderr",
     "output_type": "stream",
     "text": [
      "\u001b[32m[I 2022-10-28 00:13:58,209]\u001b[0m Trial 1 finished with value: 0.736937054089312 and parameters: {'min_child_weight': 4, 'max_bin': 256, 'colsample_bytree': 0.6, 'colsample_bylevel': 0.9, 'eta': 0.03251443301447361, 'max_depth': 10, 'gamma': 0.3, 'reg_lambda': 0.1}. Best is trial 1 with value: 0.736937054089312.\u001b[0m\n"
     ]
    },
    {
     "name": "stdout",
     "output_type": "stream",
     "text": [
      "-----------------------1------------------------\n",
      "[0]\ttrain-auc:0.61091\teval-auc:0.60855\n",
      "[199]\ttrain-auc:0.65973\teval-auc:0.65401\n",
      "-----------------------2------------------------\n",
      "[0]\ttrain-auc:0.60848\teval-auc:0.60894\n",
      "[199]\ttrain-auc:0.65852\teval-auc:0.65422\n"
     ]
    },
    {
     "name": "stderr",
     "output_type": "stream",
     "text": [
      "\u001b[32m[I 2022-10-28 00:14:12,659]\u001b[0m Trial 2 finished with value: 0.6541151233221834 and parameters: {'min_child_weight': 6, 'max_bin': 512, 'colsample_bytree': 0.9, 'colsample_bylevel': 0.7, 'eta': 0.012292387403798653, 'max_depth': 3, 'gamma': 0.2, 'reg_lambda': 10}. Best is trial 1 with value: 0.736937054089312.\u001b[0m\n"
     ]
    },
    {
     "name": "stdout",
     "output_type": "stream",
     "text": [
      "-----------------------1------------------------\n",
      "[0]\ttrain-auc:0.59951\teval-auc:0.59170\n",
      "[199]\ttrain-auc:0.74473\teval-auc:0.69996\n",
      "-----------------------2------------------------\n",
      "[0]\ttrain-auc:0.59756\teval-auc:0.59036\n",
      "[199]\ttrain-auc:0.74485\teval-auc:0.69990\n"
     ]
    },
    {
     "name": "stderr",
     "output_type": "stream",
     "text": [
      "\u001b[32m[I 2022-10-28 00:14:30,483]\u001b[0m Trial 3 finished with value: 0.6999279500111197 and parameters: {'min_child_weight': 3, 'max_bin': 256, 'colsample_bytree': 0.7, 'colsample_bylevel': 0.7, 'eta': 0.05958184926485061, 'max_depth': 5, 'gamma': 0.1, 'reg_lambda': 3}. Best is trial 1 with value: 0.736937054089312.\u001b[0m\n"
     ]
    },
    {
     "name": "stdout",
     "output_type": "stream",
     "text": [
      "-----------------------1------------------------\n",
      "[0]\ttrain-auc:0.56927\teval-auc:0.56551\n",
      "[199]\ttrain-auc:0.69344\teval-auc:0.68019\n",
      "-----------------------2------------------------\n",
      "[0]\ttrain-auc:0.57629\teval-auc:0.57173\n",
      "[199]\ttrain-auc:0.69340\teval-auc:0.68128\n"
     ]
    },
    {
     "name": "stderr",
     "output_type": "stream",
     "text": [
      "\u001b[32m[I 2022-10-28 00:14:44,928]\u001b[0m Trial 4 finished with value: 0.6807348766703846 and parameters: {'min_child_weight': 4, 'max_bin': 256, 'colsample_bytree': 0.6, 'colsample_bylevel': 0.9, 'eta': 0.047982827183448734, 'max_depth': 3, 'gamma': 1, 'reg_lambda': 5}. Best is trial 1 with value: 0.736937054089312.\u001b[0m\n"
     ]
    },
    {
     "name": "stdout",
     "output_type": "stream",
     "text": [
      "-----------------------1------------------------\n",
      "[0]\ttrain-auc:0.66401\teval-auc:0.64493\n",
      "[199]\ttrain-auc:0.76665\teval-auc:0.70194\n",
      "-----------------------2------------------------\n",
      "[0]\ttrain-auc:0.66398\teval-auc:0.64433\n",
      "[199]\ttrain-auc:0.76583\teval-auc:0.70258\n"
     ]
    },
    {
     "name": "stderr",
     "output_type": "stream",
     "text": [
      "\u001b[32m[I 2022-10-28 00:15:08,843]\u001b[0m Trial 5 finished with value: 0.7022589770581281 and parameters: {'min_child_weight': 6, 'max_bin': 256, 'colsample_bytree': 0.8, 'colsample_bylevel': 0.7, 'eta': 0.022858556419438996, 'max_depth': 7, 'gamma': 0.5, 'reg_lambda': 3}. Best is trial 1 with value: 0.736937054089312.\u001b[0m\n"
     ]
    },
    {
     "name": "stdout",
     "output_type": "stream",
     "text": [
      "-----------------------1------------------------\n",
      "[0]\ttrain-auc:0.69773\teval-auc:0.65128\n",
      "[199]\ttrain-auc:0.97164\teval-auc:0.74418\n",
      "-----------------------2------------------------\n",
      "[0]\ttrain-auc:0.70422\teval-auc:0.64643\n",
      "[199]\ttrain-auc:0.97412\teval-auc:0.74670\n"
     ]
    },
    {
     "name": "stderr",
     "output_type": "stream",
     "text": [
      "\u001b[32m[I 2022-10-28 00:15:38,921]\u001b[0m Trial 6 finished with value: 0.7454397372058783 and parameters: {'min_child_weight': 3, 'max_bin': 256, 'colsample_bytree': 1, 'colsample_bylevel': 0.8, 'eta': 0.14328024544617263, 'max_depth': 9, 'gamma': 0.6, 'reg_lambda': 2}. Best is trial 6 with value: 0.7454397372058783.\u001b[0m\n"
     ]
    },
    {
     "name": "stdout",
     "output_type": "stream",
     "text": [
      "-----------------------1------------------------\n",
      "[0]\ttrain-auc:0.61337\teval-auc:0.60220\n",
      "[199]\ttrain-auc:0.86688\teval-auc:0.71947\n",
      "-----------------------2------------------------\n",
      "[0]\ttrain-auc:0.61050\teval-auc:0.59857\n",
      "[199]\ttrain-auc:0.87201\teval-auc:0.71934\n"
     ]
    },
    {
     "name": "stderr",
     "output_type": "stream",
     "text": [
      "\u001b[32m[I 2022-10-28 00:15:57,221]\u001b[0m Trial 7 finished with value: 0.7194038022549898 and parameters: {'min_child_weight': 3, 'max_bin': 256, 'colsample_bytree': 0.6, 'colsample_bylevel': 0.6, 'eta': 0.26127971525657734, 'max_depth': 6, 'gamma': 0.2, 'reg_lambda': 10}. Best is trial 6 with value: 0.7454397372058783.\u001b[0m\n"
     ]
    },
    {
     "name": "stdout",
     "output_type": "stream",
     "text": [
      "-----------------------1------------------------\n",
      "[0]\ttrain-auc:0.68746\teval-auc:0.65342\n",
      "[199]\ttrain-auc:0.97026\teval-auc:0.74213\n",
      "-----------------------2------------------------\n",
      "[0]\ttrain-auc:0.68587\teval-auc:0.65487\n",
      "[199]\ttrain-auc:0.97588\teval-auc:0.74421\n"
     ]
    },
    {
     "name": "stderr",
     "output_type": "stream",
     "text": [
      "\u001b[32m[I 2022-10-28 00:16:26,714]\u001b[0m Trial 8 finished with value: 0.7431663037607317 and parameters: {'min_child_weight': 3, 'max_bin': 256, 'colsample_bytree': 1, 'colsample_bylevel': 1, 'eta': 0.2732811812864732, 'max_depth': 8, 'gamma': 0.2, 'reg_lambda': 10}. Best is trial 6 with value: 0.7454397372058783.\u001b[0m\n"
     ]
    },
    {
     "name": "stdout",
     "output_type": "stream",
     "text": [
      "-----------------------1------------------------\n",
      "[0]\ttrain-auc:0.62668\teval-auc:0.62393\n",
      "[199]\ttrain-auc:0.70456\teval-auc:0.68569\n",
      "-----------------------2------------------------\n",
      "[0]\ttrain-auc:0.62767\teval-auc:0.62624\n",
      "[199]\ttrain-auc:0.70463\teval-auc:0.68671\n"
     ]
    },
    {
     "name": "stderr",
     "output_type": "stream",
     "text": [
      "\u001b[32m[I 2022-10-28 00:16:43,725]\u001b[0m Trial 9 finished with value: 0.6862017043300189 and parameters: {'min_child_weight': 4, 'max_bin': 256, 'colsample_bytree': 0.9, 'colsample_bylevel': 0.7, 'eta': 0.03494976799454682, 'max_depth': 4, 'gamma': 0.2, 'reg_lambda': 10}. Best is trial 6 with value: 0.7454397372058783.\u001b[0m\n"
     ]
    },
    {
     "name": "stdout",
     "output_type": "stream",
     "text": [
      "-----------------------1------------------------\n",
      "[0]\ttrain-auc:0.72175\teval-auc:0.65263\n",
      "[199]\ttrain-auc:0.98674\teval-auc:0.75526\n",
      "-----------------------2------------------------\n",
      "[0]\ttrain-auc:0.73190\teval-auc:0.64934\n",
      "[199]\ttrain-auc:0.98815\teval-auc:0.75926\n"
     ]
    },
    {
     "name": "stderr",
     "output_type": "stream",
     "text": [
      "\u001b[32m[I 2022-10-28 00:17:18,382]\u001b[0m Trial 10 finished with value: 0.7572593422099188 and parameters: {'min_child_weight': 1, 'max_bin': 512, 'colsample_bytree': 1, 'colsample_bylevel': 0.8, 'eta': 0.10394472830834614, 'max_depth': 10, 'gamma': 0.6, 'reg_lambda': 2}. Best is trial 10 with value: 0.7572593422099188.\u001b[0m\n"
     ]
    },
    {
     "name": "stdout",
     "output_type": "stream",
     "text": [
      "-----------------------1------------------------\n",
      "[0]\ttrain-auc:0.72175\teval-auc:0.65263\n",
      "[199]\ttrain-auc:0.98915\teval-auc:0.75636\n",
      "-----------------------2------------------------\n",
      "[0]\ttrain-auc:0.73190\teval-auc:0.64934\n",
      "[199]\ttrain-auc:0.98984\teval-auc:0.75780\n"
     ]
    },
    {
     "name": "stderr",
     "output_type": "stream",
     "text": [
      "\u001b[32m[I 2022-10-28 00:17:53,530]\u001b[0m Trial 11 finished with value: 0.7570808456927267 and parameters: {'min_child_weight': 1, 'max_bin': 512, 'colsample_bytree': 1, 'colsample_bylevel': 0.8, 'eta': 0.10508418225701165, 'max_depth': 10, 'gamma': 0.6, 'reg_lambda': 2}. Best is trial 10 with value: 0.7572593422099188.\u001b[0m\n"
     ]
    },
    {
     "name": "stdout",
     "output_type": "stream",
     "text": [
      "-----------------------1------------------------\n",
      "[0]\ttrain-auc:0.72175\teval-auc:0.65263\n",
      "[199]\ttrain-auc:0.98174\teval-auc:0.75400\n",
      "-----------------------2------------------------\n",
      "[0]\ttrain-auc:0.73190\teval-auc:0.64934\n",
      "[199]\ttrain-auc:0.98431\teval-auc:0.75550\n"
     ]
    },
    {
     "name": "stderr",
     "output_type": "stream",
     "text": [
      "\u001b[32m[I 2022-10-28 00:18:28,789]\u001b[0m Trial 12 finished with value: 0.7547522879169724 and parameters: {'min_child_weight': 1, 'max_bin': 512, 'colsample_bytree': 1, 'colsample_bylevel': 0.8, 'eta': 0.09099325998636898, 'max_depth': 10, 'gamma': 0.6, 'reg_lambda': 2}. Best is trial 10 with value: 0.7572593422099188.\u001b[0m\n"
     ]
    },
    {
     "name": "stdout",
     "output_type": "stream",
     "text": [
      "-----------------------1------------------------\n",
      "[0]\ttrain-auc:0.72096\teval-auc:0.65138\n",
      "[199]\ttrain-auc:0.99482\teval-auc:0.76069\n",
      "-----------------------2------------------------\n",
      "[0]\ttrain-auc:0.73205\teval-auc:0.64819\n",
      "[199]\ttrain-auc:0.99587\teval-auc:0.76177\n"
     ]
    },
    {
     "name": "stderr",
     "output_type": "stream",
     "text": [
      "\u001b[32m[I 2022-10-28 00:19:03,809]\u001b[0m Trial 13 finished with value: 0.761232467522063 and parameters: {'min_child_weight': 1, 'max_bin': 512, 'colsample_bytree': 1, 'colsample_bylevel': 0.8, 'eta': 0.12562144582228274, 'max_depth': 10, 'gamma': 0.4, 'reg_lambda': 1}. Best is trial 13 with value: 0.761232467522063.\u001b[0m\n"
     ]
    },
    {
     "name": "stdout",
     "output_type": "stream",
     "text": [
      "-----------------------1------------------------\n",
      "[0]\ttrain-auc:0.69777\teval-auc:0.65039\n",
      "[199]\ttrain-auc:0.98369\teval-auc:0.74900\n",
      "-----------------------2------------------------\n",
      "[0]\ttrain-auc:0.70533\teval-auc:0.64698\n",
      "[199]\ttrain-auc:0.98155\teval-auc:0.74952\n"
     ]
    },
    {
     "name": "stderr",
     "output_type": "stream",
     "text": [
      "\u001b[32m[I 2022-10-28 00:19:36,520]\u001b[0m Trial 14 finished with value: 0.7492584124228351 and parameters: {'min_child_weight': 2, 'max_bin': 512, 'colsample_bytree': 1, 'colsample_bylevel': 0.8, 'eta': 0.15072356758940458, 'max_depth': 9, 'gamma': 0.4, 'reg_lambda': 1}. Best is trial 13 with value: 0.761232467522063.\u001b[0m\n"
     ]
    },
    {
     "name": "stdout",
     "output_type": "stream",
     "text": [
      "-----------------------1------------------------\n",
      "[0]\ttrain-auc:0.63958\teval-auc:0.61243\n",
      "[199]\ttrain-auc:0.90026\teval-auc:0.72917\n",
      "-----------------------2------------------------\n",
      "[0]\ttrain-auc:0.64173\teval-auc:0.60887\n",
      "[199]\ttrain-auc:0.90824\teval-auc:0.73216\n"
     ]
    },
    {
     "name": "stderr",
     "output_type": "stream",
     "text": [
      "\u001b[32m[I 2022-10-28 00:20:01,968]\u001b[0m Trial 15 finished with value: 0.7306634445374618 and parameters: {'min_child_weight': 1, 'max_bin': 512, 'colsample_bytree': 0.7, 'colsample_bylevel': 0.8, 'eta': 0.07709739108050086, 'max_depth': 8, 'gamma': 0.4, 'reg_lambda': 1}. Best is trial 13 with value: 0.761232467522063.\u001b[0m\n"
     ]
    },
    {
     "name": "stdout",
     "output_type": "stream",
     "text": [
      "-----------------------1------------------------\n",
      "[0]\ttrain-auc:0.69683\teval-auc:0.64990\n",
      "[199]\ttrain-auc:0.98439\teval-auc:0.74921\n",
      "-----------------------2------------------------\n",
      "[0]\ttrain-auc:0.69983\teval-auc:0.65058\n",
      "[199]\ttrain-auc:0.98347\teval-auc:0.74831\n"
     ]
    },
    {
     "name": "stderr",
     "output_type": "stream",
     "text": [
      "\u001b[32m[I 2022-10-28 00:20:32,472]\u001b[0m Trial 16 finished with value: 0.7487597115727924 and parameters: {'min_child_weight': 2, 'max_bin': 512, 'colsample_bytree': 0.8, 'colsample_bylevel': 1, 'eta': 0.1545799181772773, 'max_depth': 9, 'gamma': 0.4, 'reg_lambda': 1}. Best is trial 13 with value: 0.761232467522063.\u001b[0m\n"
     ]
    },
    {
     "name": "stdout",
     "output_type": "stream",
     "text": [
      "-----------------------1------------------------\n",
      "[0]\ttrain-auc:0.66524\teval-auc:0.64352\n",
      "[199]\ttrain-auc:0.92743\teval-auc:0.72710\n",
      "-----------------------2------------------------\n",
      "[0]\ttrain-auc:0.66590\teval-auc:0.64570\n",
      "[199]\ttrain-auc:0.92973\teval-auc:0.72824\n"
     ]
    },
    {
     "name": "stderr",
     "output_type": "stream",
     "text": [
      "\u001b[32m[I 2022-10-28 00:20:56,942]\u001b[0m Trial 17 finished with value: 0.727666653507762 and parameters: {'min_child_weight': 2, 'max_bin': 512, 'colsample_bytree': 1, 'colsample_bylevel': 0.8, 'eta': 0.19643799646904883, 'max_depth': 7, 'gamma': 1, 'reg_lambda': 0.1}. Best is trial 13 with value: 0.761232467522063.\u001b[0m\n"
     ]
    },
    {
     "name": "stdout",
     "output_type": "stream",
     "text": [
      "-----------------------1------------------------\n",
      "[0]\ttrain-auc:0.65155\teval-auc:0.63789\n",
      "[199]\ttrain-auc:0.83764\teval-auc:0.71609\n",
      "-----------------------2------------------------\n",
      "[0]\ttrain-auc:0.65174\teval-auc:0.64371\n",
      "[199]\ttrain-auc:0.83775\teval-auc:0.71695\n"
     ]
    },
    {
     "name": "stderr",
     "output_type": "stream",
     "text": [
      "\u001b[32m[I 2022-10-28 00:21:19,251]\u001b[0m Trial 18 finished with value: 0.7165212899840692 and parameters: {'min_child_weight': 1, 'max_bin': 512, 'colsample_bytree': 1, 'colsample_bylevel': 0.8, 'eta': 0.11311314747760585, 'max_depth': 6, 'gamma': 0.3, 'reg_lambda': 0.05}. Best is trial 13 with value: 0.761232467522063.\u001b[0m\n"
     ]
    },
    {
     "name": "stdout",
     "output_type": "stream",
     "text": [
      "-----------------------1------------------------\n",
      "[0]\ttrain-auc:0.71608\teval-auc:0.65484\n",
      "[199]\ttrain-auc:0.94337\teval-auc:0.74120\n",
      "-----------------------2------------------------\n",
      "[0]\ttrain-auc:0.72566\teval-auc:0.64997\n",
      "[199]\ttrain-auc:0.94509\teval-auc:0.74262\n"
     ]
    },
    {
     "name": "stderr",
     "output_type": "stream",
     "text": [
      "\u001b[32m[I 2022-10-28 00:21:54,670]\u001b[0m Trial 19 finished with value: 0.7419106292901951 and parameters: {'min_child_weight': 2, 'max_bin': 512, 'colsample_bytree': 1, 'colsample_bylevel': 0.8, 'eta': 0.06075113424441491, 'max_depth': 10, 'gamma': 0.5, 'reg_lambda': 5}. Best is trial 13 with value: 0.761232467522063.\u001b[0m\n"
     ]
    },
    {
     "name": "stdout",
     "output_type": "stream",
     "text": [
      "Number of finished trials: 20\n",
      "Best trial: {'min_child_weight': 1, 'max_bin': 512, 'colsample_bytree': 1, 'colsample_bylevel': 0.8, 'eta': 0.12562144582228274, 'max_depth': 10, 'gamma': 0.4, 'reg_lambda': 1}\n",
      "Best Score: 0.761232467522063\n"
     ]
    }
   ],
   "source": [
    "study = optuna.create_study(direction='maximize')\n",
    "study.optimize(objective, n_trials=20)\n",
    "print('Number of finished trials:', len(study.trials))\n",
    "trial = study.best_trial\n",
    "print('Best trial:', trial.params)\n",
    "print('Best Score:', trial.value)"
   ]
  },
  {
   "cell_type": "code",
   "execution_count": 57,
   "id": "39ce533f",
   "metadata": {
    "ExecuteTime": {
     "end_time": "2022-10-28T06:01:47.662362Z",
     "start_time": "2022-10-28T05:41:13.425953Z"
    },
    "scrolled": true
   },
   "outputs": [
    {
     "name": "stdout",
     "output_type": "stream",
     "text": [
      "-----------------------1------------------------\n",
      "[0]\ttrain-auc:0.71280\teval-auc:0.65758\n",
      "[1000]\ttrain-auc:1.00000\teval-auc:0.84146\n",
      "[2000]\ttrain-auc:1.00000\teval-auc:0.84671\n",
      "[2171]\ttrain-auc:1.00000\teval-auc:0.84671\n",
      "-----------------------2------------------------\n",
      "[0]\ttrain-auc:0.71668\teval-auc:0.65702\n",
      "[1000]\ttrain-auc:1.00000\teval-auc:0.84039\n",
      "[1786]\ttrain-auc:1.00000\teval-auc:0.84476\n",
      "-----------------------3------------------------\n",
      "[0]\ttrain-auc:0.71058\teval-auc:0.65676\n",
      "[1000]\ttrain-auc:1.00000\teval-auc:0.84005\n",
      "[2000]\ttrain-auc:1.00000\teval-auc:0.84446\n",
      "[2521]\ttrain-auc:1.00000\teval-auc:0.84479\n",
      "-----------------------4------------------------\n",
      "[0]\ttrain-auc:0.71765\teval-auc:0.66044\n",
      "[1000]\ttrain-auc:1.00000\teval-auc:0.84332\n",
      "[2000]\ttrain-auc:1.00000\teval-auc:0.84770\n",
      "[3000]\ttrain-auc:1.00000\teval-auc:0.84890\n",
      "[3347]\ttrain-auc:1.00000\teval-auc:0.84893\n",
      "-----------------------5------------------------\n",
      "[0]\ttrain-auc:0.71849\teval-auc:0.65863\n",
      "[1000]\ttrain-auc:1.00000\teval-auc:0.84043\n",
      "[2000]\ttrain-auc:1.00000\teval-auc:0.84559\n",
      "[2171]\ttrain-auc:1.00000\teval-auc:0.84559\n"
     ]
    }
   ],
   "source": [
    "Best_trial = {'seed':42,\n",
    "              'n_jobs':-1,\n",
    "              'eval_metric': 'auc',\n",
    "              'objective': 'binary:logistic',\n",
    "              'min_child_weight': 1, \n",
    "              'max_bin': 512, \n",
    "              'colsample_bytree': 1, \n",
    "              'colsample_bylevel': 0.8, \n",
    "              'eta': 0.12562144582228274, \n",
    "              'max_depth': 10, \n",
    "              'gamma': 0.4, \n",
    "              'reg_lambda': 1}\n",
    "kf = KFold(n_splits=5, shuffle=True, random_state=42)\n",
    "cv_scores = []\n",
    "test = np.zeros(x_test.shape[0])\n",
    "for i, (train_index, valid_index) in enumerate(kf.split(x_train, y_train)):\n",
    "    print(f'-----------------------{str(i+1)}------------------------')\n",
    "    trn_x, trn_y = x_train.iloc[train_index], y_train.loc[train_index]\n",
    "    val_x, val_y = x_train.iloc[valid_index], y_train.loc[valid_index]\n",
    "\n",
    "    train_matrix = xgb.DMatrix(trn_x, label=trn_y)\n",
    "    valid_matrix = xgb.DMatrix(val_x, label=val_y)\n",
    "    test_matrix = xgb.DMatrix(x_test)\n",
    "\n",
    "    watchlist = [(train_matrix, 'train'), (valid_matrix, 'eval')]\n",
    "\n",
    "    model = xgb.train(Best_trial, train_matrix, num_boost_round=20000, evals=watchlist, \n",
    "                      verbose_eval=1000, early_stopping_rounds=200)\n",
    "    val_pred = model.predict(valid_matrix, ntree_limit=model.best_ntree_limit)\n",
    "    test_pred = model.predict(test_matrix, ntree_limit=model.best_ntree_limit)\n",
    "    \n",
    "    cv_scores.append(roc_auc_score(val_y, val_pred))\n",
    "    test += test_pred / kf.n_splits"
   ]
  },
  {
   "cell_type": "code",
   "execution_count": 58,
   "id": "b6439c65",
   "metadata": {
    "ExecuteTime": {
     "end_time": "2022-10-28T06:02:00.316938Z",
     "start_time": "2022-10-28T06:02:00.295933Z"
    }
   },
   "outputs": [
    {
     "data": {
      "text/plain": [
       "array([0.46985101, 0.46611985, 0.71144314, ..., 0.08183173, 0.40560564,\n",
       "       0.3287576 ])"
      ]
     },
     "execution_count": 58,
     "metadata": {},
     "output_type": "execute_result"
    }
   ],
   "source": [
    "test"
   ]
  },
  {
   "cell_type": "code",
   "execution_count": 60,
   "id": "e9cbdecb",
   "metadata": {
    "ExecuteTime": {
     "end_time": "2022-10-28T06:04:53.946024Z",
     "start_time": "2022-10-28T06:04:53.933028Z"
    }
   },
   "outputs": [],
   "source": [
    "result = test.copy()\n",
    "# result[result > 0.5] = 1\n",
    "# result[result <= 0.5] = 0"
   ]
  },
  {
   "cell_type": "code",
   "execution_count": 61,
   "id": "b953c4ef",
   "metadata": {
    "ExecuteTime": {
     "end_time": "2022-10-28T06:04:58.172051Z",
     "start_time": "2022-10-28T06:04:58.048433Z"
    }
   },
   "outputs": [],
   "source": [
    "test = pd.read_csv('test.csv')\n",
    "id_test = test.loc[:, test.columns == '客户ID']\n",
    "resultFinal = pd.concat([id_test,\n",
    "                pd.DataFrame({'是否流失':result})], axis=1)"
   ]
  },
  {
   "cell_type": "code",
   "execution_count": 62,
   "id": "5e080b3b",
   "metadata": {
    "ExecuteTime": {
     "end_time": "2022-10-28T06:04:58.709324Z",
     "start_time": "2022-10-28T06:04:58.689307Z"
    }
   },
   "outputs": [
    {
     "data": {
      "text/html": [
       "<div>\n",
       "<style scoped>\n",
       "    .dataframe tbody tr th:only-of-type {\n",
       "        vertical-align: middle;\n",
       "    }\n",
       "\n",
       "    .dataframe tbody tr th {\n",
       "        vertical-align: top;\n",
       "    }\n",
       "\n",
       "    .dataframe thead th {\n",
       "        text-align: right;\n",
       "    }\n",
       "</style>\n",
       "<table border=\"1\" class=\"dataframe\">\n",
       "  <thead>\n",
       "    <tr style=\"text-align: right;\">\n",
       "      <th></th>\n",
       "      <th>客户ID</th>\n",
       "      <th>是否流失</th>\n",
       "    </tr>\n",
       "  </thead>\n",
       "  <tbody>\n",
       "    <tr>\n",
       "      <th>0</th>\n",
       "      <td>150000</td>\n",
       "      <td>0.469851</td>\n",
       "    </tr>\n",
       "    <tr>\n",
       "      <th>1</th>\n",
       "      <td>150001</td>\n",
       "      <td>0.466120</td>\n",
       "    </tr>\n",
       "    <tr>\n",
       "      <th>2</th>\n",
       "      <td>150002</td>\n",
       "      <td>0.711443</td>\n",
       "    </tr>\n",
       "    <tr>\n",
       "      <th>3</th>\n",
       "      <td>150003</td>\n",
       "      <td>0.948649</td>\n",
       "    </tr>\n",
       "    <tr>\n",
       "      <th>4</th>\n",
       "      <td>150004</td>\n",
       "      <td>0.965054</td>\n",
       "    </tr>\n",
       "    <tr>\n",
       "      <th>...</th>\n",
       "      <td>...</td>\n",
       "      <td>...</td>\n",
       "    </tr>\n",
       "    <tr>\n",
       "      <th>29995</th>\n",
       "      <td>179995</td>\n",
       "      <td>0.721605</td>\n",
       "    </tr>\n",
       "    <tr>\n",
       "      <th>29996</th>\n",
       "      <td>179996</td>\n",
       "      <td>0.937581</td>\n",
       "    </tr>\n",
       "    <tr>\n",
       "      <th>29997</th>\n",
       "      <td>179997</td>\n",
       "      <td>0.081832</td>\n",
       "    </tr>\n",
       "    <tr>\n",
       "      <th>29998</th>\n",
       "      <td>179998</td>\n",
       "      <td>0.405606</td>\n",
       "    </tr>\n",
       "    <tr>\n",
       "      <th>29999</th>\n",
       "      <td>179999</td>\n",
       "      <td>0.328758</td>\n",
       "    </tr>\n",
       "  </tbody>\n",
       "</table>\n",
       "<p>30000 rows × 2 columns</p>\n",
       "</div>"
      ],
      "text/plain": [
       "         客户ID      是否流失\n",
       "0      150000  0.469851\n",
       "1      150001  0.466120\n",
       "2      150002  0.711443\n",
       "3      150003  0.948649\n",
       "4      150004  0.965054\n",
       "...       ...       ...\n",
       "29995  179995  0.721605\n",
       "29996  179996  0.937581\n",
       "29997  179997  0.081832\n",
       "29998  179998  0.405606\n",
       "29999  179999  0.328758\n",
       "\n",
       "[30000 rows x 2 columns]"
      ]
     },
     "execution_count": 62,
     "metadata": {},
     "output_type": "execute_result"
    }
   ],
   "source": [
    "resultFinal"
   ]
  },
  {
   "cell_type": "code",
   "execution_count": 63,
   "id": "cdbd1f89",
   "metadata": {
    "ExecuteTime": {
     "end_time": "2022-10-28T06:05:01.729473Z",
     "start_time": "2022-10-28T06:05:01.650870Z"
    }
   },
   "outputs": [],
   "source": [
    "resultFinal.to_csv('submit.csv', index=False)"
   ]
  },
  {
   "cell_type": "code",
   "execution_count": null,
   "id": "416f74f8",
   "metadata": {},
   "outputs": [],
   "source": []
  }
 ],
 "metadata": {
  "kernelspec": {
   "display_name": "Python 3 (ipykernel)",
   "language": "python",
   "name": "python3"
  },
  "language_info": {
   "codemirror_mode": {
    "name": "ipython",
    "version": 3
   },
   "file_extension": ".py",
   "mimetype": "text/x-python",
   "name": "python",
   "nbconvert_exporter": "python",
   "pygments_lexer": "ipython3",
   "version": "3.7.12"
  },
  "toc": {
   "base_numbering": 1,
   "nav_menu": {},
   "number_sections": true,
   "sideBar": true,
   "skip_h1_title": false,
   "title_cell": "Table of Contents",
   "title_sidebar": "Contents",
   "toc_cell": false,
   "toc_position": {},
   "toc_section_display": true,
   "toc_window_display": false
  },
  "varInspector": {
   "cols": {
    "lenName": 16,
    "lenType": 16,
    "lenVar": 40
   },
   "kernels_config": {
    "python": {
     "delete_cmd_postfix": "",
     "delete_cmd_prefix": "del ",
     "library": "var_list.py",
     "varRefreshCmd": "print(var_dic_list())"
    },
    "r": {
     "delete_cmd_postfix": ") ",
     "delete_cmd_prefix": "rm(",
     "library": "var_list.r",
     "varRefreshCmd": "cat(var_dic_list()) "
    }
   },
   "types_to_exclude": [
    "module",
    "function",
    "builtin_function_or_method",
    "instance",
    "_Feature"
   ],
   "window_display": false
  }
 },
 "nbformat": 4,
 "nbformat_minor": 5
}
